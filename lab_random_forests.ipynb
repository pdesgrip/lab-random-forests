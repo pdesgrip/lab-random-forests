{
 "cells": [
  {
   "cell_type": "code",
   "execution_count": 2,
   "id": "329f959c",
   "metadata": {
    "ExecuteTime": {
     "end_time": "2023-10-19T10:24:50.507278Z",
     "start_time": "2023-10-19T10:11:25.246975Z"
    }
   },
   "outputs": [],
   "source": [
    "# import the neccessary libraries\n",
    "import pandas as pd\n",
    "from sklearn.model_selection import train_test_split, GridSearchCV\n",
    "from sklearn.ensemble import RandomForestClassifier\n",
    "from sklearn.metrics import make_scorer, f1_score\n",
    "from sklearn.utils import resample\n",
    "from sklearn.preprocessing import OneHotEncoder\n",
    "\n",
    "# read the data\n",
    "numerical = pd.read_csv('numerical.csv', nrows=10000)\n",
    "categorical = pd.read_csv('categorical.csv', nrows=10000)\n",
    "target = pd.read_csv('target.csv', nrows=10000)"
   ]
  },
  {
   "cell_type": "code",
   "execution_count": null,
   "id": "1a333968",
   "metadata": {},
   "outputs": [],
   "source": [
    "# encode the categorical variables with one-hot encoding\n",
    "encoder = OneHotEncoder(drop='first', sparse_output=False)\n",
    "encoded_categorical = encoder.fit_transform(categorical)\n",
    "encoded_categorical_df = pd.DataFrame(encoded_categorical, columns=encoder.get_feature_names_out(categorical.columns))"
   ]
  },
  {
   "cell_type": "code",
   "execution_count": null,
   "id": "9f6b2422",
   "metadata": {},
   "outputs": [],
   "source": [
    "# merge data\n",
    "data = pd.concat([numerical, encoded_categorical_df], axis=1)\n",
    "X = data\n",
    "y = target['TARGET_B']"
   ]
  },
  {
   "cell_type": "code",
   "execution_count": null,
   "id": "42be68cd",
   "metadata": {},
   "outputs": [],
   "source": [
    "# unsample for the class imbalance\n",
    "X_train, X_test, y_train, y_test = train_test_split(X, y, test_size=0.25, random_state=42)"
   ]
  },
  {
   "cell_type": "code",
   "execution_count": null,
   "id": "ec6ddb82",
   "metadata": {},
   "outputs": [],
   "source": [
    "# upsmaple minority class\n",
    "X_train_majority = X_train[y_train == 0]\n",
    "X_train_minority = X_train[y_train == 1]\n",
    "X_train_minority_upsampled = resample(X_train_minority,\n",
    "                                      replace=True,\n",
    "                                      n_samples=len(X_train_majority),\n",
    "                                      random_state=42)\n",
    "X_train_upsampled = pd.concat([X_train_majority, X_train_minority_upsampled])\n",
    "y_train_upsampled = y_train.loc[X_train_upsampled.index]"
   ]
  },
  {
   "cell_type": "code",
   "execution_count": null,
   "id": "d9860690",
   "metadata": {},
   "outputs": [],
   "source": [
    "# model train with GridSearchCV using F1 Score\n",
    "clf = RandomForestClassifier()\n",
    "param_grid = {\n",
    "    'n_estimators': [10, 50, 100],\n",
    "    'max_depth': [None, 10, 20, 30],\n",
    "    'min_samples_split': [2, 5, 10]\n",
    "}\n",
    "f1_scorer = make_scorer(f1_score)\n",
    "grid_search = GridSearchCV(clf, param_grid, scoring=f1_scorer, cv=5)\n",
    "grid_search.fit(X_train_upsampled, y_train_upsampled)\n",
    "# evaluate model\n",
    "best_model = grid_search.best_estimator_\n",
    "y_pred = best_model.predict(X_test)"
   ]
  },
  {
   "cell_type": "code",
   "execution_count": 5,
   "id": "50ac7a4b",
   "metadata": {
    "ExecuteTime": {
     "end_time": "2023-10-19T13:17:15.330896Z",
     "start_time": "2023-10-19T13:17:15.307033Z"
    }
   },
   "outputs": [
    {
     "name": "stdout",
     "output_type": "stream",
     "text": [
      "Best Parameters: {'max_depth': None, 'min_samples_split': 5, 'n_estimators': 100}\n",
      "\n",
      "Confusion Matrix:\n",
      " [[2355    3]\n",
      " [ 142    0]]\n",
      "\n",
      "Classification Report:\n",
      "               precision    recall  f1-score   support\n",
      "\n",
      "           0       0.94      1.00      0.97      2358\n",
      "           1       0.00      0.00      0.00       142\n",
      "\n",
      "    accuracy                           0.94      2500\n",
      "   macro avg       0.47      0.50      0.49      2500\n",
      "weighted avg       0.89      0.94      0.92      2500\n",
      "\n",
      "\n",
      "Accuracy: 0.942\n",
      "\n",
      "Estimated Lost Earnings due to Misclassifications: EUR 28700\n"
     ]
    }
   ],
   "source": [
    "from sklearn.metrics import confusion_matrix, classification_report, accuracy_score\n",
    "\n",
    "# show best parameters\n",
    "print(\"Best Parameters:\", grid_search.best_params_)\n",
    "\n",
    "# confusion matrix\n",
    "cm = confusion_matrix(y_test, y_pred)\n",
    "print(\"\\nConfusion Matrix:\\n\", cm)\n",
    "\n",
    "# classification report\n",
    "print(\"\\nClassification Report:\\n\", classification_report(y_test, y_pred))\n",
    "\n",
    "# general accuracy\n",
    "print(\"\\nAccuracy:\", accuracy_score(y_test, y_pred))\n",
    "\n",
    "# business Impact Analysis \n",
    "\n",
    "cost_fp = 100  # examample cost for a false positive\n",
    "cost_fn = 200  # example cost for a false negative\n",
    "\n",
    "#extracting false positives and false negatives from the confusion matrix\n",
    "fp = cm[0][1]\n",
    "fn = cm[1][0]\n",
    "\n",
    "lost_earnings = (fp * cost_fp) + (fn * cost_fn)\n",
    "print(f\"\\nEstimated Lost Earnings due to Misclassifications: EUR {lost_earnings}\")\n"
   ]
  },
  {
   "cell_type": "markdown",
   "id": "aa4623e8",
   "metadata": {},
   "source": [
    "Given the failure of the model to be able to predict the minority class (1) even after addressing the class imbalance we see that relying only on accuracy to evaluate the model's performance may be misleading. The failure to detect any positives is worrying, especially if the costs of false negatives are significant."
   ]
  }
 ],
 "metadata": {
  "kernelspec": {
   "display_name": "Python 3 (ipykernel)",
   "language": "python",
   "name": "python3"
  },
  "language_info": {
   "codemirror_mode": {
    "name": "ipython",
    "version": 3
   },
   "file_extension": ".py",
   "mimetype": "text/x-python",
   "name": "python",
   "nbconvert_exporter": "python",
   "pygments_lexer": "ipython3",
   "version": "3.11.4"
  }
 },
 "nbformat": 4,
 "nbformat_minor": 5
}
